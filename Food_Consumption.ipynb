{
 "cells": [
  {
   "cell_type": "code",
   "execution_count": 1,
   "id": "a1084b58",
   "metadata": {},
   "outputs": [],
   "source": [
    "import numpy as np\n",
    "import pandas as pd\n",
    "import matplotlib.pyplot as plt\n",
    "import seaborn as sns\n",
    "plt.rcParams[\"figure.figsize\"] = [12, 8]"
   ]
  },
  {
   "cell_type": "markdown",
   "id": "d0083d6b",
   "metadata": {},
   "source": [
    "I work with the [2018 Food Carbon Footprint Index](https://www.nu3.de/blogs/nutrition/food-carbon-footprint-index-2018) from nu3. The food_consumption dataset contains information about the kilograms of food consumed per person per year in each country in each food category (consumption) as well as information about the carbon footprint of that food category (co2_emissions) measured in kilograms of carbon dioxide, or CO2, per person per year in each country."
   ]
  },
  {
   "cell_type": "markdown",
   "id": "46b3fcb8",
   "metadata": {},
   "source": [
    "## Load Data Set "
   ]
  },
  {
   "cell_type": "code",
   "execution_count": 18,
   "id": "1f1add81",
   "metadata": {},
   "outputs": [],
   "source": [
    "df = pd.read_csv('food_consumption.csv')"
   ]
  },
  {
   "cell_type": "code",
   "execution_count": 19,
   "id": "605c8b30",
   "metadata": {},
   "outputs": [
    {
     "data": {
      "text/html": [
       "<div>\n",
       "<style scoped>\n",
       "    .dataframe tbody tr th:only-of-type {\n",
       "        vertical-align: middle;\n",
       "    }\n",
       "\n",
       "    .dataframe tbody tr th {\n",
       "        vertical-align: top;\n",
       "    }\n",
       "\n",
       "    .dataframe thead th {\n",
       "        text-align: right;\n",
       "    }\n",
       "</style>\n",
       "<table border=\"1\" class=\"dataframe\">\n",
       "  <thead>\n",
       "    <tr style=\"text-align: right;\">\n",
       "      <th></th>\n",
       "      <th>Unnamed: 0</th>\n",
       "      <th>country</th>\n",
       "      <th>food_category</th>\n",
       "      <th>consumption</th>\n",
       "      <th>co2_emission</th>\n",
       "    </tr>\n",
       "  </thead>\n",
       "  <tbody>\n",
       "    <tr>\n",
       "      <th>0</th>\n",
       "      <td>1</td>\n",
       "      <td>Argentina</td>\n",
       "      <td>pork</td>\n",
       "      <td>10.51</td>\n",
       "      <td>37.20</td>\n",
       "    </tr>\n",
       "    <tr>\n",
       "      <th>1</th>\n",
       "      <td>2</td>\n",
       "      <td>Argentina</td>\n",
       "      <td>poultry</td>\n",
       "      <td>38.66</td>\n",
       "      <td>41.53</td>\n",
       "    </tr>\n",
       "    <tr>\n",
       "      <th>2</th>\n",
       "      <td>3</td>\n",
       "      <td>Argentina</td>\n",
       "      <td>beef</td>\n",
       "      <td>55.48</td>\n",
       "      <td>1712.00</td>\n",
       "    </tr>\n",
       "    <tr>\n",
       "      <th>3</th>\n",
       "      <td>4</td>\n",
       "      <td>Argentina</td>\n",
       "      <td>lamb_goat</td>\n",
       "      <td>1.56</td>\n",
       "      <td>54.63</td>\n",
       "    </tr>\n",
       "    <tr>\n",
       "      <th>4</th>\n",
       "      <td>5</td>\n",
       "      <td>Argentina</td>\n",
       "      <td>fish</td>\n",
       "      <td>4.36</td>\n",
       "      <td>6.96</td>\n",
       "    </tr>\n",
       "  </tbody>\n",
       "</table>\n",
       "</div>"
      ],
      "text/plain": [
       "   Unnamed: 0    country food_category  consumption  co2_emission\n",
       "0           1  Argentina          pork        10.51         37.20\n",
       "1           2  Argentina       poultry        38.66         41.53\n",
       "2           3  Argentina          beef        55.48       1712.00\n",
       "3           4  Argentina     lamb_goat         1.56         54.63\n",
       "4           5  Argentina          fish         4.36          6.96"
      ]
     },
     "execution_count": 19,
     "metadata": {},
     "output_type": "execute_result"
    }
   ],
   "source": [
    "df.head()"
   ]
  },
  {
   "cell_type": "code",
   "execution_count": 20,
   "id": "03d62e1d",
   "metadata": {},
   "outputs": [],
   "source": [
    "df.drop(['Unnamed: 0'], axis=1, inplace=True)"
   ]
  },
  {
   "cell_type": "code",
   "execution_count": 21,
   "id": "36806680",
   "metadata": {},
   "outputs": [
    {
     "name": "stdout",
     "output_type": "stream",
     "text": [
      "<class 'pandas.core.frame.DataFrame'>\n",
      "RangeIndex: 1430 entries, 0 to 1429\n",
      "Data columns (total 4 columns):\n",
      " #   Column         Non-Null Count  Dtype  \n",
      "---  ------         --------------  -----  \n",
      " 0   country        1430 non-null   object \n",
      " 1   food_category  1430 non-null   object \n",
      " 2   consumption    1430 non-null   float64\n",
      " 3   co2_emission   1430 non-null   float64\n",
      "dtypes: float64(2), object(2)\n",
      "memory usage: 44.8+ KB\n"
     ]
    }
   ],
   "source": [
    "df.info()"
   ]
  },
  {
   "cell_type": "code",
   "execution_count": 13,
   "id": "0056b960",
   "metadata": {},
   "outputs": [
    {
     "data": {
      "text/html": [
       "<div>\n",
       "<style scoped>\n",
       "    .dataframe tbody tr th:only-of-type {\n",
       "        vertical-align: middle;\n",
       "    }\n",
       "\n",
       "    .dataframe tbody tr th {\n",
       "        vertical-align: top;\n",
       "    }\n",
       "\n",
       "    .dataframe thead th {\n",
       "        text-align: right;\n",
       "    }\n",
       "</style>\n",
       "<table border=\"1\" class=\"dataframe\">\n",
       "  <thead>\n",
       "    <tr style=\"text-align: right;\">\n",
       "      <th></th>\n",
       "      <th>consumption</th>\n",
       "      <th>co2_emission</th>\n",
       "    </tr>\n",
       "  </thead>\n",
       "  <tbody>\n",
       "    <tr>\n",
       "      <th>count</th>\n",
       "      <td>1430.000000</td>\n",
       "      <td>1430.000000</td>\n",
       "    </tr>\n",
       "    <tr>\n",
       "      <th>mean</th>\n",
       "      <td>28.110406</td>\n",
       "      <td>74.383993</td>\n",
       "    </tr>\n",
       "    <tr>\n",
       "      <th>std</th>\n",
       "      <td>49.818044</td>\n",
       "      <td>152.098566</td>\n",
       "    </tr>\n",
       "    <tr>\n",
       "      <th>min</th>\n",
       "      <td>0.000000</td>\n",
       "      <td>0.000000</td>\n",
       "    </tr>\n",
       "    <tr>\n",
       "      <th>25%</th>\n",
       "      <td>2.365000</td>\n",
       "      <td>5.210000</td>\n",
       "    </tr>\n",
       "    <tr>\n",
       "      <th>50%</th>\n",
       "      <td>8.890000</td>\n",
       "      <td>16.530000</td>\n",
       "    </tr>\n",
       "    <tr>\n",
       "      <th>75%</th>\n",
       "      <td>28.132500</td>\n",
       "      <td>62.597500</td>\n",
       "    </tr>\n",
       "    <tr>\n",
       "      <th>max</th>\n",
       "      <td>430.760000</td>\n",
       "      <td>1712.000000</td>\n",
       "    </tr>\n",
       "  </tbody>\n",
       "</table>\n",
       "</div>"
      ],
      "text/plain": [
       "       consumption  co2_emission\n",
       "count  1430.000000   1430.000000\n",
       "mean     28.110406     74.383993\n",
       "std      49.818044    152.098566\n",
       "min       0.000000      0.000000\n",
       "25%       2.365000      5.210000\n",
       "50%       8.890000     16.530000\n",
       "75%      28.132500     62.597500\n",
       "max     430.760000   1712.000000"
      ]
     },
     "execution_count": 13,
     "metadata": {},
     "output_type": "execute_result"
    }
   ],
   "source": [
    "df.describe()"
   ]
  },
  {
   "cell_type": "code",
   "execution_count": 14,
   "id": "e659b368",
   "metadata": {},
   "outputs": [
    {
     "data": {
      "text/html": [
       "<div>\n",
       "<style scoped>\n",
       "    .dataframe tbody tr th:only-of-type {\n",
       "        vertical-align: middle;\n",
       "    }\n",
       "\n",
       "    .dataframe tbody tr th {\n",
       "        vertical-align: top;\n",
       "    }\n",
       "\n",
       "    .dataframe thead th {\n",
       "        text-align: right;\n",
       "    }\n",
       "</style>\n",
       "<table border=\"1\" class=\"dataframe\">\n",
       "  <thead>\n",
       "    <tr style=\"text-align: right;\">\n",
       "      <th></th>\n",
       "      <th>country</th>\n",
       "      <th>food_category</th>\n",
       "      <th>consumption</th>\n",
       "      <th>co2_emission</th>\n",
       "    </tr>\n",
       "  </thead>\n",
       "  <tbody>\n",
       "    <tr>\n",
       "      <th>414</th>\n",
       "      <td>Germany</td>\n",
       "      <td>wheat</td>\n",
       "      <td>83.41</td>\n",
       "      <td>15.91</td>\n",
       "    </tr>\n",
       "    <tr>\n",
       "      <th>417</th>\n",
       "      <td>Germany</td>\n",
       "      <td>nuts</td>\n",
       "      <td>7.96</td>\n",
       "      <td>14.09</td>\n",
       "    </tr>\n",
       "    <tr>\n",
       "      <th>221</th>\n",
       "      <td>French Polynesia</td>\n",
       "      <td>poultry</td>\n",
       "      <td>49.55</td>\n",
       "      <td>53.23</td>\n",
       "    </tr>\n",
       "    <tr>\n",
       "      <th>950</th>\n",
       "      <td>Grenada</td>\n",
       "      <td>fish</td>\n",
       "      <td>27.95</td>\n",
       "      <td>44.63</td>\n",
       "    </tr>\n",
       "    <tr>\n",
       "      <th>629</th>\n",
       "      <td>Maldives</td>\n",
       "      <td>beef</td>\n",
       "      <td>9.44</td>\n",
       "      <td>291.30</td>\n",
       "    </tr>\n",
       "    <tr>\n",
       "      <th>1395</th>\n",
       "      <td>Sri Lanka</td>\n",
       "      <td>soybeans</td>\n",
       "      <td>0.00</td>\n",
       "      <td>0.00</td>\n",
       "    </tr>\n",
       "    <tr>\n",
       "      <th>1058</th>\n",
       "      <td>Malaysia</td>\n",
       "      <td>beef</td>\n",
       "      <td>6.52</td>\n",
       "      <td>201.19</td>\n",
       "    </tr>\n",
       "    <tr>\n",
       "      <th>1162</th>\n",
       "      <td>Nicaragua</td>\n",
       "      <td>wheat</td>\n",
       "      <td>28.17</td>\n",
       "      <td>5.37</td>\n",
       "    </tr>\n",
       "    <tr>\n",
       "      <th>1085</th>\n",
       "      <td>Guatemala</td>\n",
       "      <td>wheat</td>\n",
       "      <td>35.90</td>\n",
       "      <td>6.85</td>\n",
       "    </tr>\n",
       "    <tr>\n",
       "      <th>1368</th>\n",
       "      <td>Cambodia</td>\n",
       "      <td>fish</td>\n",
       "      <td>39.59</td>\n",
       "      <td>63.21</td>\n",
       "    </tr>\n",
       "    <tr>\n",
       "      <th>1311</th>\n",
       "      <td>Togo</td>\n",
       "      <td>beef</td>\n",
       "      <td>1.53</td>\n",
       "      <td>47.21</td>\n",
       "    </tr>\n",
       "    <tr>\n",
       "      <th>746</th>\n",
       "      <td>Fiji</td>\n",
       "      <td>soybeans</td>\n",
       "      <td>0.30</td>\n",
       "      <td>0.14</td>\n",
       "    </tr>\n",
       "    <tr>\n",
       "      <th>1083</th>\n",
       "      <td>Guatemala</td>\n",
       "      <td>eggs</td>\n",
       "      <td>14.61</td>\n",
       "      <td>13.42</td>\n",
       "    </tr>\n",
       "    <tr>\n",
       "      <th>1115</th>\n",
       "      <td>Iran</td>\n",
       "      <td>fish</td>\n",
       "      <td>9.80</td>\n",
       "      <td>15.65</td>\n",
       "    </tr>\n",
       "    <tr>\n",
       "      <th>1338</th>\n",
       "      <td>India</td>\n",
       "      <td>wheat</td>\n",
       "      <td>60.56</td>\n",
       "      <td>11.55</td>\n",
       "    </tr>\n",
       "    <tr>\n",
       "      <th>1278</th>\n",
       "      <td>Rwanda</td>\n",
       "      <td>beef</td>\n",
       "      <td>2.53</td>\n",
       "      <td>78.07</td>\n",
       "    </tr>\n",
       "    <tr>\n",
       "      <th>1139</th>\n",
       "      <td>Senegal</td>\n",
       "      <td>dairy</td>\n",
       "      <td>16.86</td>\n",
       "      <td>24.02</td>\n",
       "    </tr>\n",
       "    <tr>\n",
       "      <th>56</th>\n",
       "      <td>USA</td>\n",
       "      <td>poultry</td>\n",
       "      <td>50.01</td>\n",
       "      <td>53.72</td>\n",
       "    </tr>\n",
       "    <tr>\n",
       "      <th>182</th>\n",
       "      <td>France</td>\n",
       "      <td>dairy</td>\n",
       "      <td>241.31</td>\n",
       "      <td>343.72</td>\n",
       "    </tr>\n",
       "    <tr>\n",
       "      <th>1211</th>\n",
       "      <td>Zambia</td>\n",
       "      <td>poultry</td>\n",
       "      <td>3.29</td>\n",
       "      <td>3.53</td>\n",
       "    </tr>\n",
       "    <tr>\n",
       "      <th>864</th>\n",
       "      <td>Bulgaria</td>\n",
       "      <td>dairy</td>\n",
       "      <td>155.71</td>\n",
       "      <td>221.79</td>\n",
       "    </tr>\n",
       "    <tr>\n",
       "      <th>601</th>\n",
       "      <td>Czech Republic</td>\n",
       "      <td>wheat</td>\n",
       "      <td>92.67</td>\n",
       "      <td>17.67</td>\n",
       "    </tr>\n",
       "    <tr>\n",
       "      <th>949</th>\n",
       "      <td>Grenada</td>\n",
       "      <td>lamb_goat</td>\n",
       "      <td>1.25</td>\n",
       "      <td>43.77</td>\n",
       "    </tr>\n",
       "    <tr>\n",
       "      <th>883</th>\n",
       "      <td>Slovakia</td>\n",
       "      <td>lamb_goat</td>\n",
       "      <td>0.16</td>\n",
       "      <td>5.60</td>\n",
       "    </tr>\n",
       "    <tr>\n",
       "      <th>1243</th>\n",
       "      <td>Malawi</td>\n",
       "      <td>pork</td>\n",
       "      <td>5.45</td>\n",
       "      <td>19.29</td>\n",
       "    </tr>\n",
       "  </tbody>\n",
       "</table>\n",
       "</div>"
      ],
      "text/plain": [
       "               country food_category  consumption  co2_emission\n",
       "414            Germany         wheat        83.41         15.91\n",
       "417            Germany          nuts         7.96         14.09\n",
       "221   French Polynesia       poultry        49.55         53.23\n",
       "950            Grenada          fish        27.95         44.63\n",
       "629           Maldives          beef         9.44        291.30\n",
       "1395         Sri Lanka      soybeans         0.00          0.00\n",
       "1058          Malaysia          beef         6.52        201.19\n",
       "1162         Nicaragua         wheat        28.17          5.37\n",
       "1085         Guatemala         wheat        35.90          6.85\n",
       "1368          Cambodia          fish        39.59         63.21\n",
       "1311              Togo          beef         1.53         47.21\n",
       "746               Fiji      soybeans         0.30          0.14\n",
       "1083         Guatemala          eggs        14.61         13.42\n",
       "1115              Iran          fish         9.80         15.65\n",
       "1338             India         wheat        60.56         11.55\n",
       "1278            Rwanda          beef         2.53         78.07\n",
       "1139           Senegal         dairy        16.86         24.02\n",
       "56                 USA       poultry        50.01         53.72\n",
       "182             France         dairy       241.31        343.72\n",
       "1211            Zambia       poultry         3.29          3.53\n",
       "864           Bulgaria         dairy       155.71        221.79\n",
       "601     Czech Republic         wheat        92.67         17.67\n",
       "949            Grenada     lamb_goat         1.25         43.77\n",
       "883           Slovakia     lamb_goat         0.16          5.60\n",
       "1243            Malawi          pork         5.45         19.29"
      ]
     },
     "execution_count": 14,
     "metadata": {},
     "output_type": "execute_result"
    }
   ],
   "source": [
    "df.sample(25)"
   ]
  },
  {
   "cell_type": "code",
   "execution_count": 25,
   "id": "dc54d962",
   "metadata": {},
   "outputs": [
    {
     "data": {
      "text/plain": [
       "False    1430\n",
       "dtype: int64"
      ]
     },
     "execution_count": 25,
     "metadata": {},
     "output_type": "execute_result"
    }
   ],
   "source": [
    "df.duplicated().value_counts()"
   ]
  },
  {
   "cell_type": "markdown",
   "id": "32ee277c",
   "metadata": {},
   "source": [
    "## Data Insights "
   ]
  },
  {
   "cell_type": "code",
   "execution_count": 3,
   "id": "fdad321a",
   "metadata": {},
   "outputs": [],
   "source": [
    "# Filter for USA\n",
    "usa_food_consumption = df[df['country']=='USA']"
   ]
  },
  {
   "cell_type": "code",
   "execution_count": 16,
   "id": "934e0584",
   "metadata": {},
   "outputs": [
    {
     "data": {
      "text/html": [
       "<div>\n",
       "<style scoped>\n",
       "    .dataframe tbody tr th:only-of-type {\n",
       "        vertical-align: middle;\n",
       "    }\n",
       "\n",
       "    .dataframe tbody tr th {\n",
       "        vertical-align: top;\n",
       "    }\n",
       "\n",
       "    .dataframe thead th {\n",
       "        text-align: right;\n",
       "    }\n",
       "</style>\n",
       "<table border=\"1\" class=\"dataframe\">\n",
       "  <thead>\n",
       "    <tr style=\"text-align: right;\">\n",
       "      <th></th>\n",
       "      <th>country</th>\n",
       "      <th>food_category</th>\n",
       "      <th>consumption</th>\n",
       "      <th>co2_emission</th>\n",
       "    </tr>\n",
       "  </thead>\n",
       "  <tbody>\n",
       "    <tr>\n",
       "      <th>55</th>\n",
       "      <td>USA</td>\n",
       "      <td>pork</td>\n",
       "      <td>27.64</td>\n",
       "      <td>97.83</td>\n",
       "    </tr>\n",
       "    <tr>\n",
       "      <th>56</th>\n",
       "      <td>USA</td>\n",
       "      <td>poultry</td>\n",
       "      <td>50.01</td>\n",
       "      <td>53.72</td>\n",
       "    </tr>\n",
       "    <tr>\n",
       "      <th>57</th>\n",
       "      <td>USA</td>\n",
       "      <td>beef</td>\n",
       "      <td>36.24</td>\n",
       "      <td>1118.29</td>\n",
       "    </tr>\n",
       "    <tr>\n",
       "      <th>58</th>\n",
       "      <td>USA</td>\n",
       "      <td>lamb_goat</td>\n",
       "      <td>0.43</td>\n",
       "      <td>15.06</td>\n",
       "    </tr>\n",
       "    <tr>\n",
       "      <th>59</th>\n",
       "      <td>USA</td>\n",
       "      <td>fish</td>\n",
       "      <td>12.35</td>\n",
       "      <td>19.72</td>\n",
       "    </tr>\n",
       "  </tbody>\n",
       "</table>\n",
       "</div>"
      ],
      "text/plain": [
       "   country food_category  consumption  co2_emission\n",
       "55     USA          pork        27.64         97.83\n",
       "56     USA       poultry        50.01         53.72\n",
       "57     USA          beef        36.24       1118.29\n",
       "58     USA     lamb_goat         0.43         15.06\n",
       "59     USA          fish        12.35         19.72"
      ]
     },
     "execution_count": 16,
     "metadata": {},
     "output_type": "execute_result"
    }
   ],
   "source": [
    "usa_food_consumption.head()"
   ]
  },
  {
   "cell_type": "code",
   "execution_count": 13,
   "id": "1095d63c",
   "metadata": {},
   "outputs": [
    {
     "name": "stdout",
     "output_type": "stream",
     "text": [
      "44.650000000000006\n"
     ]
    }
   ],
   "source": [
    "print(np.mean(usa_food_consumption['consumption']))"
   ]
  },
  {
   "cell_type": "code",
   "execution_count": 29,
   "id": "036176a1",
   "metadata": {},
   "outputs": [],
   "source": [
    "# Filter for Germany\n",
    "germany_food_consumption = df[df['country']=='Germany']"
   ]
  },
  {
   "cell_type": "code",
   "execution_count": 30,
   "id": "0f599089",
   "metadata": {},
   "outputs": [
    {
     "name": "stdout",
     "output_type": "stream",
     "text": [
      "41.91818181818181\n"
     ]
    }
   ],
   "source": [
    "print(np.mean(germany_food_consumption['consumption']))"
   ]
  },
  {
   "cell_type": "code",
   "execution_count": 23,
   "id": "080f2ef3",
   "metadata": {},
   "outputs": [
    {
     "data": {
      "text/plain": [
       "country\n",
       "Ethiopia                 2.14\n",
       "Cambodia                 2.21\n",
       "Rwanda                   2.69\n",
       "Bangladesh               3.33\n",
       "Nepal                    4.28\n",
       "                        ...  \n",
       "Bermuda                 35.04\n",
       "United Arab Emirates    40.76\n",
       "Grenada                 40.78\n",
       "French Polynesia        52.21\n",
       "Hong Kong SAR. China    58.93\n",
       "Name: co2_emission, Length: 130, dtype: float64"
      ]
     },
     "execution_count": 23,
     "metadata": {},
     "output_type": "execute_result"
    }
   ],
   "source": [
    "df.groupby('country')['co2_emission'].agg('median').sort_values()"
   ]
  },
  {
   "cell_type": "code",
   "execution_count": 31,
   "id": "289bf751",
   "metadata": {},
   "outputs": [
    {
     "data": {
      "text/plain": [
       "food_category\n",
       "soybeans       0.075\n",
       "lamb_goat      1.325\n",
       "nuts           3.495\n",
       "beef           8.285\n",
       "eggs           8.420\n",
       "pork          10.355\n",
       "rice          11.875\n",
       "fish          13.950\n",
       "poultry       19.855\n",
       "wheat         69.420\n",
       "dairy        110.975\n",
       "Name: consumption, dtype: float64"
      ]
     },
     "execution_count": 31,
     "metadata": {},
     "output_type": "execute_result"
    }
   ],
   "source": [
    "df.groupby('food_category')['consumption'].agg('median').sort_values()"
   ]
  },
  {
   "cell_type": "code",
   "execution_count": 32,
   "id": "cb8b4a79",
   "metadata": {},
   "outputs": [
    {
     "data": {
      "text/plain": [
       "food_category\n",
       "soybeans       0.04\n",
       "lamb_goat      0.43\n",
       "rice           6.88\n",
       "nuts           7.86\n",
       "fish          12.35\n",
       "eggs          14.58\n",
       "pork          27.64\n",
       "beef          36.24\n",
       "poultry       50.01\n",
       "wheat         80.43\n",
       "dairy        254.69\n",
       "Name: consumption, dtype: float64"
      ]
     },
     "execution_count": 32,
     "metadata": {},
     "output_type": "execute_result"
    }
   ],
   "source": [
    "usa_food_consumption.groupby('food_category')['consumption'].agg('median').sort_values()"
   ]
  },
  {
   "cell_type": "code",
   "execution_count": 33,
   "id": "ac8c9a76",
   "metadata": {},
   "outputs": [
    {
     "data": {
      "text/plain": [
       "food_category\n",
       "lamb_goat      0.73\n",
       "soybeans       0.88\n",
       "rice           3.34\n",
       "nuts           7.96\n",
       "fish          11.16\n",
       "eggs          12.20\n",
       "beef          13.16\n",
       "poultry       17.75\n",
       "pork          51.81\n",
       "wheat         83.41\n",
       "dairy        258.70\n",
       "Name: consumption, dtype: float64"
      ]
     },
     "execution_count": 33,
     "metadata": {},
     "output_type": "execute_result"
    }
   ],
   "source": [
    "germany_food_consumption.groupby('food_category')['consumption'].agg('median').sort_values()"
   ]
  },
  {
   "cell_type": "code",
   "execution_count": 35,
   "id": "b3f67363",
   "metadata": {},
   "outputs": [
    {
     "data": {
      "image/png": "[encoded data removed]",
      "text/plain": [
       "<Figure size 864x576 with 1 Axes>"
      ]
     },
     "metadata": {
      "needs_background": "light"
     },
     "output_type": "display_data"
    }
   ],
   "source": [
    "usa_food_consumption.plot(kind='bar');"
   ]
  },
  {
   "cell_type": "code",
   "execution_count": 37,
   "id": "0187ed2c",
   "metadata": {},
   "outputs": [
    {
     "data": {
      "image/png": "[encoded data removed]",
      "text/plain": [
       "<Figure size 864x576 with 1 Axes>"
      ]
     },
     "metadata": {
      "needs_background": "light"
     },
     "output_type": "display_data"
    }
   ],
   "source": [
    "germany_food_consumption.plot(kind='bar');"
   ]
  },
  {
   "cell_type": "code",
   "execution_count": 15,
   "id": "0c11bafb",
   "metadata": {},
   "outputs": [
    {
     "data": {
      "text/plain": [
       "array(['pork', 'poultry', 'beef', 'lamb_goat', 'fish', 'eggs', 'dairy',\n",
       "       'wheat', 'rice', 'soybeans', 'nuts'], dtype=object)"
      ]
     },
     "execution_count": 15,
     "metadata": {},
     "output_type": "execute_result"
    }
   ],
   "source": [
    "# Finding Unique value for food category\n",
    "unique_value = df['food_category'].unique()\n",
    "unique_value"
   ]
  },
  {
   "cell_type": "code",
   "execution_count": 24,
   "id": "6ca51f49",
   "metadata": {},
   "outputs": [
    {
     "data": {
      "image/png": "[encoded data removed]",
      "text/plain": [
       "<Figure size 792x504 with 2 Axes>"
      ]
     },
     "metadata": {},
     "output_type": "display_data"
    }
   ],
   "source": [
    "sns.set(rc={'figure.figsize':(11,7)})\n",
    "plt.title('Correlation Matrix')\n",
    "sns.heatmap(df.corr(),annot=True);"
   ]
  },
  {
   "cell_type": "code",
   "execution_count": 23,
   "id": "872d96c5",
   "metadata": {},
   "outputs": [
    {
     "data": {
      "image/png": "[encoded data removed]",
      "text/plain": [
       "<Figure size 432x432 with 3 Axes>"
      ]
     },
     "metadata": {},
     "output_type": "display_data"
    }
   ],
   "source": [
    "sns.jointplot(data=df,x='consumption',y='co2_emission', hue= 'food_category', kind='scatter', palette='colorblind');"
   ]
  },
  {
   "cell_type": "code",
   "execution_count": 24,
   "id": "c3c39417",
   "metadata": {},
   "outputs": [
    {
     "data": {
      "text/html": [
       "<div>\n",
       "<style scoped>\n",
       "    .dataframe tbody tr th:only-of-type {\n",
       "        vertical-align: middle;\n",
       "    }\n",
       "\n",
       "    .dataframe tbody tr th {\n",
       "        vertical-align: top;\n",
       "    }\n",
       "\n",
       "    .dataframe thead th {\n",
       "        text-align: right;\n",
       "    }\n",
       "</style>\n",
       "<table border=\"1\" class=\"dataframe\">\n",
       "  <thead>\n",
       "    <tr style=\"text-align: right;\">\n",
       "      <th></th>\n",
       "      <th>country</th>\n",
       "      <th>food_category</th>\n",
       "      <th>consumption</th>\n",
       "      <th>co2_emission</th>\n",
       "    </tr>\n",
       "  </thead>\n",
       "  <tbody>\n",
       "    <tr>\n",
       "      <th>2</th>\n",
       "      <td>Argentina</td>\n",
       "      <td>beef</td>\n",
       "      <td>55.48</td>\n",
       "      <td>1712.00</td>\n",
       "    </tr>\n",
       "    <tr>\n",
       "      <th>13</th>\n",
       "      <td>Australia</td>\n",
       "      <td>beef</td>\n",
       "      <td>33.86</td>\n",
       "      <td>1044.85</td>\n",
       "    </tr>\n",
       "    <tr>\n",
       "      <th>24</th>\n",
       "      <td>Albania</td>\n",
       "      <td>beef</td>\n",
       "      <td>22.50</td>\n",
       "      <td>694.30</td>\n",
       "    </tr>\n",
       "    <tr>\n",
       "      <th>35</th>\n",
       "      <td>Iceland</td>\n",
       "      <td>beef</td>\n",
       "      <td>13.36</td>\n",
       "      <td>412.26</td>\n",
       "    </tr>\n",
       "    <tr>\n",
       "      <th>46</th>\n",
       "      <td>New Zealand</td>\n",
       "      <td>beef</td>\n",
       "      <td>22.49</td>\n",
       "      <td>693.99</td>\n",
       "    </tr>\n",
       "  </tbody>\n",
       "</table>\n",
       "</div>"
      ],
      "text/plain": [
       "        country food_category  consumption  co2_emission\n",
       "2     Argentina          beef        55.48       1712.00\n",
       "13    Australia          beef        33.86       1044.85\n",
       "24      Albania          beef        22.50        694.30\n",
       "35      Iceland          beef        13.36        412.26\n",
       "46  New Zealand          beef        22.49        693.99"
      ]
     },
     "execution_count": 24,
     "metadata": {},
     "output_type": "execute_result"
    }
   ],
   "source": [
    "beef_consumption.head()"
   ]
  },
  {
   "cell_type": "code",
   "execution_count": 6,
   "id": "3ce9bff4",
   "metadata": {},
   "outputs": [],
   "source": [
    "# Subset for food_category equals rice\n",
    "rice_consumption = df[df['food_category']=='rice']"
   ]
  },
  {
   "cell_type": "code",
   "execution_count": 14,
   "id": "1b5c080b",
   "metadata": {},
   "outputs": [
    {
     "data": {
      "image/png": "[encoded data removed]",
      "text/plain": [
       "<Figure size 792x504 with 1 Axes>"
      ]
     },
     "metadata": {},
     "output_type": "display_data"
    }
   ],
   "source": [
    "# Histogram of co2_emission for rice and show plot\n",
    "rice_consumption['co2_emission'].hist()\n",
    "plt.show()"
   ]
  },
  {
   "cell_type": "code",
   "execution_count": 22,
   "id": "cc33f1e4",
   "metadata": {},
   "outputs": [],
   "source": [
    "# Subset for food_category equals beef\n",
    "beef_consumption = df[df['food_category']=='beef']"
   ]
  },
  {
   "cell_type": "code",
   "execution_count": 13,
   "id": "f412cb24",
   "metadata": {},
   "outputs": [
    {
     "data": {
      "image/png": "[encoded data removed]",
      "text/plain": [
       "<Figure size 792x504 with 1 Axes>"
      ]
     },
     "metadata": {},
     "output_type": "display_data"
    }
   ],
   "source": [
    "# Histogram of co2_emission for beef and show plot\n",
    "beef_consumption['co2_emission'].hist()\n",
    "plt.show()"
   ]
  },
  {
   "cell_type": "code",
   "execution_count": null,
   "id": "2a0871a8",
   "metadata": {},
   "outputs": [],
   "source": []
  }
 ],
 "metadata": {
  "kernelspec": {
   "display_name": "Python 3",
   "language": "python",
   "name": "python3"
  },
  "language_info": {
   "codemirror_mode": {
    "name": "ipython",
    "version": 3
   },
   "file_extension": ".py",
   "mimetype": "text/x-python",
   "name": "python",
   "nbconvert_exporter": "python",
   "pygments_lexer": "ipython3",
   "version": "3.8.8"
  }
 },
 "nbformat": 4,
 "nbformat_minor": 5
}
