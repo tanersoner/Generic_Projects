{
 "cells": [
  {
   "cell_type": "code",
   "execution_count": 9,
   "id": "1721af23",
   "metadata": {},
   "outputs": [],
   "source": [
    "import pandas as pd\n",
    "import numpy as np"
   ]
  },
  {
   "cell_type": "code",
   "execution_count": 19,
   "id": "a4f4d1af",
   "metadata": {},
   "outputs": [],
   "source": [
    "# Read the restaurants csv file\n",
    "df = pd.read_csv('quartier_paris.csv',  encoding=\"iso-8859-1\", decimal=\",\", sep=\";\")"
   ]
  },
  {
   "cell_type": "code",
   "execution_count": 20,
   "id": "68ce8a3a",
   "metadata": {},
   "outputs": [
    {
     "data": {
      "text/html": [
       "<div>\n",
       "<style scoped>\n",
       "    .dataframe tbody tr th:only-of-type {\n",
       "        vertical-align: middle;\n",
       "    }\n",
       "\n",
       "    .dataframe tbody tr th {\n",
       "        vertical-align: top;\n",
       "    }\n",
       "\n",
       "    .dataframe thead th {\n",
       "        text-align: right;\n",
       "    }\n",
       "</style>\n",
       "<table border=\"1\" class=\"dataframe\">\n",
       "  <thead>\n",
       "    <tr style=\"text-align: right;\">\n",
       "      <th></th>\n",
       "      <th>ï»¿N_SQ_QU</th>\n",
       "      <th>C_QU</th>\n",
       "      <th>C_QUINSEE</th>\n",
       "      <th>L_QU</th>\n",
       "      <th>C_AR</th>\n",
       "      <th>N_SQ_AR</th>\n",
       "      <th>PERIMETRE</th>\n",
       "      <th>SURFACE</th>\n",
       "      <th>Geometry X Y</th>\n",
       "      <th>Geometry</th>\n",
       "      <th>st_area(shape)</th>\n",
       "      <th>st_perimeter(shape)</th>\n",
       "    </tr>\n",
       "  </thead>\n",
       "  <tbody>\n",
       "    <tr>\n",
       "      <th>0</th>\n",
       "      <td>750000021</td>\n",
       "      <td>21</td>\n",
       "      <td>7510601</td>\n",
       "      <td>Monnaie</td>\n",
       "      <td>6</td>\n",
       "      <td>750000006</td>\n",
       "      <td>2391.1228183</td>\n",
       "      <td>293360.5723113</td>\n",
       "      <td>48.85438440363994, 2.3400353711305164</td>\n",
       "      <td>{\"coordinates\": [[[2.343168550439539, 48.85138...</td>\n",
       "      <td>293360.5723113017</td>\n",
       "      <td>2391.0029730582137</td>\n",
       "    </tr>\n",
       "    <tr>\n",
       "      <th>1</th>\n",
       "      <td>750000049</td>\n",
       "      <td>49</td>\n",
       "      <td>7511301</td>\n",
       "      <td>SalpÃªtriÃ¨re</td>\n",
       "      <td>13</td>\n",
       "      <td>750000013</td>\n",
       "      <td>4759.09623874</td>\n",
       "      <td>1181560.26743328</td>\n",
       "      <td>48.83740588522814, 2.3633186351497173</td>\n",
       "      <td>{\"coordinates\": [[[2.3563634530819235, 48.8310...</td>\n",
       "      <td>1181560.267433279</td>\n",
       "      <td>4758.777702412646</td>\n",
       "    </tr>\n",
       "    <tr>\n",
       "      <th>2</th>\n",
       "      <td>750000033</td>\n",
       "      <td>33</td>\n",
       "      <td>7510901</td>\n",
       "      <td>Saint-Georges</td>\n",
       "      <td>9</td>\n",
       "      <td>750000009</td>\n",
       "      <td>3429.18833397</td>\n",
       "      <td>717091.56964335</td>\n",
       "      <td>48.87993433878256, 2.3328501965554684</td>\n",
       "      <td>{\"coordinates\": [[[2.3392285502760477, 48.8767...</td>\n",
       "      <td>717091.5696433517</td>\n",
       "      <td>3429.0930448327395</td>\n",
       "    </tr>\n",
       "    <tr>\n",
       "      <th>3</th>\n",
       "      <td>750000002</td>\n",
       "      <td>2</td>\n",
       "      <td>7510102</td>\n",
       "      <td>Halles</td>\n",
       "      <td>1</td>\n",
       "      <td>750000001</td>\n",
       "      <td>2606.4171283</td>\n",
       "      <td>412458.49632967</td>\n",
       "      <td>48.86228910809421, 2.34489885831102</td>\n",
       "      <td>{\"coordinates\": [[[2.349365804803004, 48.86057...</td>\n",
       "      <td>412458.49632967333</td>\n",
       "      <td>2606.3049334997518</td>\n",
       "    </tr>\n",
       "    <tr>\n",
       "      <th>4</th>\n",
       "      <td>750000019</td>\n",
       "      <td>19</td>\n",
       "      <td>7510503</td>\n",
       "      <td>Val-de-Grace</td>\n",
       "      <td>5</td>\n",
       "      <td>750000005</td>\n",
       "      <td>3485.83135795</td>\n",
       "      <td>703631.1629235</td>\n",
       "      <td>48.841684287953186, 2.343860926316008</td>\n",
       "      <td>{\"coordinates\": [[[2.34548425335897, 48.845073...</td>\n",
       "      <td>703631.1629235016</td>\n",
       "      <td>3485.6143470423676</td>\n",
       "    </tr>\n",
       "  </tbody>\n",
       "</table>\n",
       "</div>"
      ],
      "text/plain": [
       "   ï»¿N_SQ_QU  C_QU  C_QUINSEE           L_QU  C_AR    N_SQ_AR      PERIMETRE  \\\n",
       "0   750000021    21    7510601        Monnaie     6  750000006   2391.1228183   \n",
       "1   750000049    49    7511301  SalpÃªtriÃ¨re    13  750000013  4759.09623874   \n",
       "2   750000033    33    7510901  Saint-Georges     9  750000009  3429.18833397   \n",
       "3   750000002     2    7510102         Halles     1  750000001   2606.4171283   \n",
       "4   750000019    19    7510503   Val-de-Grace     5  750000005  3485.83135795   \n",
       "\n",
       "            SURFACE                           Geometry X Y  \\\n",
       "0    293360.5723113  48.85438440363994, 2.3400353711305164   \n",
       "1  1181560.26743328  48.83740588522814, 2.3633186351497173   \n",
       "2   717091.56964335  48.87993433878256, 2.3328501965554684   \n",
       "3   412458.49632967    48.86228910809421, 2.34489885831102   \n",
       "4    703631.1629235  48.841684287953186, 2.343860926316008   \n",
       "\n",
       "                                            Geometry      st_area(shape)  \\\n",
       "0  {\"coordinates\": [[[2.343168550439539, 48.85138...   293360.5723113017   \n",
       "1  {\"coordinates\": [[[2.3563634530819235, 48.8310...   1181560.267433279   \n",
       "2  {\"coordinates\": [[[2.3392285502760477, 48.8767...   717091.5696433517   \n",
       "3  {\"coordinates\": [[[2.349365804803004, 48.86057...  412458.49632967333   \n",
       "4  {\"coordinates\": [[[2.34548425335897, 48.845073...   703631.1629235016   \n",
       "\n",
       "  st_perimeter(shape)  \n",
       "0  2391.0029730582137  \n",
       "1   4758.777702412646  \n",
       "2  3429.0930448327395  \n",
       "3  2606.3049334997518  \n",
       "4  3485.6143470423676  "
      ]
     },
     "execution_count": 20,
     "metadata": {},
     "output_type": "execute_result"
    }
   ],
   "source": [
    "df.head()"
   ]
  },
  {
   "cell_type": "code",
   "execution_count": 21,
   "id": "4a72c320",
   "metadata": {},
   "outputs": [
    {
     "name": "stdout",
     "output_type": "stream",
     "text": [
      "<class 'pandas.core.frame.DataFrame'>\n",
      "RangeIndex: 80 entries, 0 to 79\n",
      "Data columns (total 12 columns):\n",
      " #   Column               Non-Null Count  Dtype \n",
      "---  ------               --------------  ----- \n",
      " 0   ï»¿N_SQ_QU           80 non-null     int64 \n",
      " 1   C_QU                 80 non-null     int64 \n",
      " 2   C_QUINSEE            80 non-null     int64 \n",
      " 3   L_QU                 80 non-null     object\n",
      " 4   C_AR                 80 non-null     int64 \n",
      " 5   N_SQ_AR              80 non-null     int64 \n",
      " 6   PERIMETRE            80 non-null     object\n",
      " 7   SURFACE              80 non-null     object\n",
      " 8   Geometry X Y         80 non-null     object\n",
      " 9   Geometry             80 non-null     object\n",
      " 10  st_area(shape)       80 non-null     object\n",
      " 11  st_perimeter(shape)  80 non-null     object\n",
      "dtypes: int64(5), object(7)\n",
      "memory usage: 7.6+ KB\n"
     ]
    }
   ],
   "source": [
    "df.info()"
   ]
  },
  {
   "cell_type": "code",
   "execution_count": 22,
   "id": "c16cb4fe",
   "metadata": {},
   "outputs": [],
   "source": [
    "# Column dropping for data quality\n",
    "df.drop(columns=['C_AR'], inplace=True)"
   ]
  },
  {
   "cell_type": "code",
   "execution_count": 24,
   "id": "e76ffce4",
   "metadata": {},
   "outputs": [
    {
     "data": {
      "text/html": [
       "<div>\n",
       "<style scoped>\n",
       "    .dataframe tbody tr th:only-of-type {\n",
       "        vertical-align: middle;\n",
       "    }\n",
       "\n",
       "    .dataframe tbody tr th {\n",
       "        vertical-align: top;\n",
       "    }\n",
       "\n",
       "    .dataframe thead th {\n",
       "        text-align: right;\n",
       "    }\n",
       "</style>\n",
       "<table border=\"1\" class=\"dataframe\">\n",
       "  <thead>\n",
       "    <tr style=\"text-align: right;\">\n",
       "      <th></th>\n",
       "      <th>ï»¿N_SQ_QU</th>\n",
       "      <th>C_QU</th>\n",
       "      <th>C_QUINSEE</th>\n",
       "      <th>L_QU</th>\n",
       "      <th>N_SQ_AR</th>\n",
       "      <th>PERIMETRE</th>\n",
       "      <th>SURFACE</th>\n",
       "      <th>Geometry X Y</th>\n",
       "      <th>Geometry</th>\n",
       "      <th>st_area(shape)</th>\n",
       "      <th>st_perimeter(shape)</th>\n",
       "    </tr>\n",
       "  </thead>\n",
       "  <tbody>\n",
       "    <tr>\n",
       "      <th>0</th>\n",
       "      <td>750000021</td>\n",
       "      <td>21</td>\n",
       "      <td>7510601</td>\n",
       "      <td>Monnaie</td>\n",
       "      <td>750000006</td>\n",
       "      <td>2391.1228183</td>\n",
       "      <td>293360.5723113</td>\n",
       "      <td>48.85438440363994, 2.3400353711305164</td>\n",
       "      <td>{\"coordinates\": [[[2.343168550439539, 48.85138...</td>\n",
       "      <td>293360.5723113017</td>\n",
       "      <td>2391.0029730582137</td>\n",
       "    </tr>\n",
       "    <tr>\n",
       "      <th>1</th>\n",
       "      <td>750000049</td>\n",
       "      <td>49</td>\n",
       "      <td>7511301</td>\n",
       "      <td>SalpÃªtriÃ¨re</td>\n",
       "      <td>750000013</td>\n",
       "      <td>4759.09623874</td>\n",
       "      <td>1181560.26743328</td>\n",
       "      <td>48.83740588522814, 2.3633186351497173</td>\n",
       "      <td>{\"coordinates\": [[[2.3563634530819235, 48.8310...</td>\n",
       "      <td>1181560.267433279</td>\n",
       "      <td>4758.777702412646</td>\n",
       "    </tr>\n",
       "    <tr>\n",
       "      <th>2</th>\n",
       "      <td>750000033</td>\n",
       "      <td>33</td>\n",
       "      <td>7510901</td>\n",
       "      <td>Saint-Georges</td>\n",
       "      <td>750000009</td>\n",
       "      <td>3429.18833397</td>\n",
       "      <td>717091.56964335</td>\n",
       "      <td>48.87993433878256, 2.3328501965554684</td>\n",
       "      <td>{\"coordinates\": [[[2.3392285502760477, 48.8767...</td>\n",
       "      <td>717091.5696433517</td>\n",
       "      <td>3429.0930448327395</td>\n",
       "    </tr>\n",
       "    <tr>\n",
       "      <th>3</th>\n",
       "      <td>750000002</td>\n",
       "      <td>2</td>\n",
       "      <td>7510102</td>\n",
       "      <td>Halles</td>\n",
       "      <td>750000001</td>\n",
       "      <td>2606.4171283</td>\n",
       "      <td>412458.49632967</td>\n",
       "      <td>48.86228910809421, 2.34489885831102</td>\n",
       "      <td>{\"coordinates\": [[[2.349365804803004, 48.86057...</td>\n",
       "      <td>412458.49632967333</td>\n",
       "      <td>2606.3049334997518</td>\n",
       "    </tr>\n",
       "    <tr>\n",
       "      <th>4</th>\n",
       "      <td>750000019</td>\n",
       "      <td>19</td>\n",
       "      <td>7510503</td>\n",
       "      <td>Val-de-Grace</td>\n",
       "      <td>750000005</td>\n",
       "      <td>3485.83135795</td>\n",
       "      <td>703631.1629235</td>\n",
       "      <td>48.841684287953186, 2.343860926316008</td>\n",
       "      <td>{\"coordinates\": [[[2.34548425335897, 48.845073...</td>\n",
       "      <td>703631.1629235016</td>\n",
       "      <td>3485.6143470423676</td>\n",
       "    </tr>\n",
       "  </tbody>\n",
       "</table>\n",
       "</div>"
      ],
      "text/plain": [
       "   ï»¿N_SQ_QU  C_QU  C_QUINSEE           L_QU    N_SQ_AR      PERIMETRE  \\\n",
       "0   750000021    21    7510601        Monnaie  750000006   2391.1228183   \n",
       "1   750000049    49    7511301  SalpÃªtriÃ¨re  750000013  4759.09623874   \n",
       "2   750000033    33    7510901  Saint-Georges  750000009  3429.18833397   \n",
       "3   750000002     2    7510102         Halles  750000001   2606.4171283   \n",
       "4   750000019    19    7510503   Val-de-Grace  750000005  3485.83135795   \n",
       "\n",
       "            SURFACE                           Geometry X Y  \\\n",
       "0    293360.5723113  48.85438440363994, 2.3400353711305164   \n",
       "1  1181560.26743328  48.83740588522814, 2.3633186351497173   \n",
       "2   717091.56964335  48.87993433878256, 2.3328501965554684   \n",
       "3   412458.49632967    48.86228910809421, 2.34489885831102   \n",
       "4    703631.1629235  48.841684287953186, 2.343860926316008   \n",
       "\n",
       "                                            Geometry      st_area(shape)  \\\n",
       "0  {\"coordinates\": [[[2.343168550439539, 48.85138...   293360.5723113017   \n",
       "1  {\"coordinates\": [[[2.3563634530819235, 48.8310...   1181560.267433279   \n",
       "2  {\"coordinates\": [[[2.3392285502760477, 48.8767...   717091.5696433517   \n",
       "3  {\"coordinates\": [[[2.349365804803004, 48.86057...  412458.49632967333   \n",
       "4  {\"coordinates\": [[[2.34548425335897, 48.845073...   703631.1629235016   \n",
       "\n",
       "  st_perimeter(shape)  \n",
       "0  2391.0029730582137  \n",
       "1   4758.777702412646  \n",
       "2  3429.0930448327395  \n",
       "3  2606.3049334997518  \n",
       "4  3485.6143470423676  "
      ]
     },
     "execution_count": 24,
     "metadata": {},
     "output_type": "execute_result"
    }
   ],
   "source": [
    "df.head()"
   ]
  },
  {
   "cell_type": "code",
   "execution_count": 25,
   "id": "cb924853",
   "metadata": {},
   "outputs": [
    {
     "data": {
      "text/plain": [
       "False    80\n",
       "dtype: int64"
      ]
     },
     "execution_count": 25,
     "metadata": {},
     "output_type": "execute_result"
    }
   ],
   "source": [
    "# I'm checking for duplicate values. If there are any, I can delete them.\n",
    "df.duplicated().value_counts()"
   ]
  },
  {
   "cell_type": "code",
   "execution_count": 26,
   "id": "228bae05",
   "metadata": {},
   "outputs": [],
   "source": [
    "# Convert the data type in column 'SURFACE' to float\n",
    "df['SURFACE'] = df['SURFACE'].astype(float)"
   ]
  },
  {
   "cell_type": "code",
   "execution_count": 27,
   "id": "e976bdf6",
   "metadata": {},
   "outputs": [
    {
     "name": "stdout",
     "output_type": "stream",
     "text": [
      "<class 'pandas.core.frame.DataFrame'>\n",
      "RangeIndex: 80 entries, 0 to 79\n",
      "Data columns (total 11 columns):\n",
      " #   Column               Non-Null Count  Dtype  \n",
      "---  ------               --------------  -----  \n",
      " 0   ï»¿N_SQ_QU           80 non-null     int64  \n",
      " 1   C_QU                 80 non-null     int64  \n",
      " 2   C_QUINSEE            80 non-null     int64  \n",
      " 3   L_QU                 80 non-null     object \n",
      " 4   N_SQ_AR              80 non-null     int64  \n",
      " 5   PERIMETRE            80 non-null     object \n",
      " 6   SURFACE              80 non-null     float64\n",
      " 7   Geometry X Y         80 non-null     object \n",
      " 8   Geometry             80 non-null     object \n",
      " 9   st_area(shape)       80 non-null     object \n",
      " 10  st_perimeter(shape)  80 non-null     object \n",
      "dtypes: float64(1), int64(4), object(6)\n",
      "memory usage: 7.0+ KB\n"
     ]
    }
   ],
   "source": [
    "df.info()"
   ]
  },
  {
   "cell_type": "code",
   "execution_count": 28,
   "id": "c1ac5865",
   "metadata": {},
   "outputs": [],
   "source": [
    "# I can delete irrelevant data for data quality. I delete three columns in this context.\n",
    "# Delete specific columns from the data frame\n",
    "delete_columns = ['ï»¿N_SQ_QU', 'C_QU', 'C_QUINSEE']\n",
    "df = df.drop(columns = delete_columns)"
   ]
  },
  {
   "cell_type": "code",
   "execution_count": 29,
   "id": "edea0125",
   "metadata": {},
   "outputs": [
    {
     "name": "stdout",
     "output_type": "stream",
     "text": [
      "<class 'pandas.core.frame.DataFrame'>\n",
      "RangeIndex: 80 entries, 0 to 79\n",
      "Data columns (total 8 columns):\n",
      " #   Column               Non-Null Count  Dtype  \n",
      "---  ------               --------------  -----  \n",
      " 0   L_QU                 80 non-null     object \n",
      " 1   N_SQ_AR              80 non-null     int64  \n",
      " 2   PERIMETRE            80 non-null     object \n",
      " 3   SURFACE              80 non-null     float64\n",
      " 4   Geometry X Y         80 non-null     object \n",
      " 5   Geometry             80 non-null     object \n",
      " 6   st_area(shape)       80 non-null     object \n",
      " 7   st_perimeter(shape)  80 non-null     object \n",
      "dtypes: float64(1), int64(1), object(6)\n",
      "memory usage: 5.1+ KB\n"
     ]
    }
   ],
   "source": [
    "df.info()"
   ]
  },
  {
   "cell_type": "code",
   "execution_count": 30,
   "id": "a6b9d84d",
   "metadata": {},
   "outputs": [],
   "source": [
    "# I can filter for data quality.\n",
    "# I select two columns and load a new data frame.\n",
    "new_df = df[['Geometry X Y', 'Geometry']].copy()"
   ]
  },
  {
   "cell_type": "code",
   "execution_count": 32,
   "id": "b449ca52",
   "metadata": {},
   "outputs": [
    {
     "name": "stdout",
     "output_type": "stream",
     "text": [
      "                            Geometry X Y  \\\n",
      "0  48.85438440363994, 2.3400353711305164   \n",
      "1  48.83740588522814, 2.3633186351497173   \n",
      "2  48.87993433878256, 2.3328501965554684   \n",
      "3    48.86228910809421, 2.34489885831102   \n",
      "4  48.841684287953186, 2.343860926316008   \n",
      "\n",
      "                                            Geometry  \n",
      "0  {\"coordinates\": [[[2.343168550439539, 48.85138...  \n",
      "1  {\"coordinates\": [[[2.3563634530819235, 48.8310...  \n",
      "2  {\"coordinates\": [[[2.3392285502760477, 48.8767...  \n",
      "3  {\"coordinates\": [[[2.349365804803004, 48.86057...  \n",
      "4  {\"coordinates\": [[[2.34548425335897, 48.845073...  \n"
     ]
    }
   ],
   "source": [
    "print(new_df.head())"
   ]
  },
  {
   "cell_type": "code",
   "execution_count": 34,
   "id": "0119dff4",
   "metadata": {},
   "outputs": [],
   "source": [
    "# Split column into two columns separated by commas\n",
    "new_df[['X', 'Y']] = df['Geometry X Y'].str.split(',', expand=True)"
   ]
  },
  {
   "cell_type": "code",
   "execution_count": 35,
   "id": "4d2960f0",
   "metadata": {},
   "outputs": [
    {
     "data": {
      "text/html": [
       "<div>\n",
       "<style scoped>\n",
       "    .dataframe tbody tr th:only-of-type {\n",
       "        vertical-align: middle;\n",
       "    }\n",
       "\n",
       "    .dataframe tbody tr th {\n",
       "        vertical-align: top;\n",
       "    }\n",
       "\n",
       "    .dataframe thead th {\n",
       "        text-align: right;\n",
       "    }\n",
       "</style>\n",
       "<table border=\"1\" class=\"dataframe\">\n",
       "  <thead>\n",
       "    <tr style=\"text-align: right;\">\n",
       "      <th></th>\n",
       "      <th>Geometry X Y</th>\n",
       "      <th>Geometry</th>\n",
       "      <th>X</th>\n",
       "      <th>Y</th>\n",
       "    </tr>\n",
       "  </thead>\n",
       "  <tbody>\n",
       "    <tr>\n",
       "      <th>0</th>\n",
       "      <td>48.85438440363994, 2.3400353711305164</td>\n",
       "      <td>{\"coordinates\": [[[2.343168550439539, 48.85138...</td>\n",
       "      <td>48.85438440363994</td>\n",
       "      <td>2.3400353711305164</td>\n",
       "    </tr>\n",
       "    <tr>\n",
       "      <th>1</th>\n",
       "      <td>48.83740588522814, 2.3633186351497173</td>\n",
       "      <td>{\"coordinates\": [[[2.3563634530819235, 48.8310...</td>\n",
       "      <td>48.83740588522814</td>\n",
       "      <td>2.3633186351497173</td>\n",
       "    </tr>\n",
       "    <tr>\n",
       "      <th>2</th>\n",
       "      <td>48.87993433878256, 2.3328501965554684</td>\n",
       "      <td>{\"coordinates\": [[[2.3392285502760477, 48.8767...</td>\n",
       "      <td>48.87993433878256</td>\n",
       "      <td>2.3328501965554684</td>\n",
       "    </tr>\n",
       "    <tr>\n",
       "      <th>3</th>\n",
       "      <td>48.86228910809421, 2.34489885831102</td>\n",
       "      <td>{\"coordinates\": [[[2.349365804803004, 48.86057...</td>\n",
       "      <td>48.86228910809421</td>\n",
       "      <td>2.34489885831102</td>\n",
       "    </tr>\n",
       "    <tr>\n",
       "      <th>4</th>\n",
       "      <td>48.841684287953186, 2.343860926316008</td>\n",
       "      <td>{\"coordinates\": [[[2.34548425335897, 48.845073...</td>\n",
       "      <td>48.841684287953186</td>\n",
       "      <td>2.343860926316008</td>\n",
       "    </tr>\n",
       "  </tbody>\n",
       "</table>\n",
       "</div>"
      ],
      "text/plain": [
       "                            Geometry X Y  \\\n",
       "0  48.85438440363994, 2.3400353711305164   \n",
       "1  48.83740588522814, 2.3633186351497173   \n",
       "2  48.87993433878256, 2.3328501965554684   \n",
       "3    48.86228910809421, 2.34489885831102   \n",
       "4  48.841684287953186, 2.343860926316008   \n",
       "\n",
       "                                            Geometry                   X  \\\n",
       "0  {\"coordinates\": [[[2.343168550439539, 48.85138...   48.85438440363994   \n",
       "1  {\"coordinates\": [[[2.3563634530819235, 48.8310...   48.83740588522814   \n",
       "2  {\"coordinates\": [[[2.3392285502760477, 48.8767...   48.87993433878256   \n",
       "3  {\"coordinates\": [[[2.349365804803004, 48.86057...   48.86228910809421   \n",
       "4  {\"coordinates\": [[[2.34548425335897, 48.845073...  48.841684287953186   \n",
       "\n",
       "                     Y  \n",
       "0   2.3400353711305164  \n",
       "1   2.3633186351497173  \n",
       "2   2.3328501965554684  \n",
       "3     2.34489885831102  \n",
       "4    2.343860926316008  "
      ]
     },
     "execution_count": 35,
     "metadata": {},
     "output_type": "execute_result"
    }
   ],
   "source": [
    "new_df.head()"
   ]
  },
  {
   "cell_type": "code",
   "execution_count": 36,
   "id": "5967256a",
   "metadata": {},
   "outputs": [],
   "source": [
    "# Convert data frame to CSV file\n",
    "new_df.to_csv(\"new_data.csv\", index=False)"
   ]
  },
  {
   "cell_type": "code",
   "execution_count": null,
   "id": "c018799f",
   "metadata": {},
   "outputs": [],
   "source": []
  },
  {
   "cell_type": "code",
   "execution_count": null,
   "id": "1029d586",
   "metadata": {},
   "outputs": [],
   "source": []
  }
 ],
 "metadata": {
  "kernelspec": {
   "display_name": "Python 3",
   "language": "python",
   "name": "python3"
  },
  "language_info": {
   "codemirror_mode": {
    "name": "ipython",
    "version": 3
   },
   "file_extension": ".py",
   "mimetype": "text/x-python",
   "name": "python",
   "nbconvert_exporter": "python",
   "pygments_lexer": "ipython3",
   "version": "3.8.8"
  }
 },
 "nbformat": 4,
 "nbformat_minor": 5
}
